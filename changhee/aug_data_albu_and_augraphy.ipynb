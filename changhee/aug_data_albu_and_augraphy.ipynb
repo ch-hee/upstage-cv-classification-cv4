{
 "cells": [
  {
   "cell_type": "code",
   "execution_count": 163,
   "metadata": {},
   "outputs": [],
   "source": [
    "import pandas as pd \n",
    "import numpy as np \n",
    "import matplotlib.pyplot as plt \n",
    "\n",
    "import os \n",
    "from glob import glob \n",
    "\n",
    "from PIL import Image, ImageOps\n",
    "from tqdm import tqdm \n",
    "import albumentations as A\n",
    "import cv2 \n",
    "from augraphy import *\n",
    "import random\n",
    "from torchvision import transforms"
   ]
  },
  {
   "cell_type": "code",
   "execution_count": 164,
   "metadata": {},
   "outputs": [],
   "source": [
    "df = pd.read_csv('../data/train.csv')"
   ]
  },
  {
   "cell_type": "code",
   "execution_count": 165,
   "metadata": {},
   "outputs": [],
   "source": [
    "H_flip = A.HorizontalFlip(always_apply=True, p=1)\n",
    "V_flip = A.VerticalFlip(always_apply=True, p=1)"
   ]
  },
  {
   "cell_type": "code",
   "execution_count": 166,
   "metadata": {},
   "outputs": [
    {
     "name": "stderr",
     "output_type": "stream",
     "text": [
      "Image flip: 1570it [00:28, 54.90it/s]\n"
     ]
    }
   ],
   "source": [
    "ids = []\n",
    "targets = []\n",
    "data_path = '../data/train/'\n",
    "for index, ID, target in tqdm(df.itertuples(), desc='Image flip', mininterval=0.1):\n",
    "    image_path = os.path.join(data_path, ID)\n",
    "    image = np.array(Image.open(image_path))\n",
    "\n",
    "    # V flip\n",
    "    id_vflip = 'Vflip_'+ ID\n",
    "    ids.append(id_vflip)\n",
    "    targets.append(target)\n",
    "    vflip_image = V_flip(image=image)['image']\n",
    "    Image.fromarray(vflip_image).save(os.path.join(data_path, id_vflip))\n",
    "    \n",
    "    # H flip\n",
    "    id_hflip = 'Hflip_'+ ID\n",
    "    ids.append(id_hflip)\n",
    "    targets.append(target)\n",
    "    hflip_image = H_flip(image=image)['image']\n",
    "    Image.fromarray(hflip_image).save(os.path.join(data_path, id_hflip))\n",
    "\n",
    "    # HV flip\n",
    "    id_hvflip = 'HVflip_'+ ID\n",
    "    ids.append(id_hvflip)\n",
    "    targets.append(target)\n",
    "    hvflip_image = V_flip(image=H_flip(image=image)['image'])['image']\n",
    "    Image.fromarray(hvflip_image).save(os.path.join(data_path, id_hvflip))\n",
    "    \n",
    "flip_data = {\n",
    "    'ID' : ids,\n",
    "    'target' : targets\n",
    "}\n",
    "flip_df = pd.DataFrame(flip_data)    \n",
    "df = pd.concat([df, flip_df])"
   ]
  },
  {
   "cell_type": "code",
   "execution_count": 167,
   "metadata": {},
   "outputs": [],
   "source": [
    "ink_phase = []"
   ]
  },
  {
   "cell_type": "code",
   "execution_count": 168,
   "metadata": {},
   "outputs": [],
   "source": [
    "paper_phase_1 = [\n",
    "    Brightness(brightness_range=(0.5, 1.5), min_brightness_value=(120, 150), p=0.5),\n",
    "]\n",
    "paper_phase_2 = [\n",
    "    ShadowCast(\n",
    "        shadow_side = \"random\",\n",
    "        shadow_vertices_range = (2, 3),\n",
    "        shadow_width_range=(0.5, 0.8),\n",
    "        shadow_height_range=(0.5, 0.8),\n",
    "        shadow_color = (0, 0, 0),\n",
    "        shadow_opacity_range=(0.5,0.6),\n",
    "        shadow_iterations_range = (1,2),\n",
    "        shadow_blur_kernel_range = (101, 301),\n",
    "        p=0.5\n",
    "    )\n",
    "]"
   ]
  },
  {
   "cell_type": "code",
   "execution_count": 169,
   "metadata": {},
   "outputs": [],
   "source": [
    "post_phase_1 = [\n",
    "    Scribbles(\n",
    "        scribbles_type=\"random\",\n",
    "        scribbles_location=\"random\",\n",
    "        scribbles_size_range=(50, 100),\n",
    "        scribbles_count_range=(1, 6),\n",
    "        scribbles_thickness_range=(1, 3),\n",
    "        scribbles_brightness_change=[32, 64, 128],\n",
    "        scribbles_text=\"random\",\n",
    "        scribbles_text_font=\"random\",\n",
    "        scribbles_text_rotate_range=(0, 360),\n",
    "        scribbles_lines_stroke_count_range=(1, 6),\n",
    "    ),\n",
    "]\n",
    "post_phase_2 = [\n",
    "    Folding(\n",
    "        fold_count=2,\n",
    "        fold_noise=0.0,\n",
    "        fold_angle_range = (-360, 360),\n",
    "        gradient_width=(0.1, 0.2),\n",
    "        gradient_height=(0.01, 0.1),\n",
    "        backdrop_color = (255, 255, 255),\n",
    "    ),\n",
    "]\n",
    "post_phase_3 = [\n",
    "    NoiseTexturize(\n",
    "        sigma_range=(13, 18),\n",
    "        turbulence_range=(2, 5),\n",
    "        texture_width_range=(250, 500),\n",
    "        texture_height_range=(250, 500),\n",
    "    ),\n",
    "]\n",
    "post_phase_4 = [\n",
    "    BrightnessTexturize(texturize_range=(0.6, 0.99), deviation=(0.3)),\n",
    "]\n",
    "post_phase_5 = [\n",
    "    SubtleNoise(subtle_range=50),\n",
    "]\n"
   ]
  },
  {
   "cell_type": "code",
   "execution_count": 170,
   "metadata": {},
   "outputs": [],
   "source": [
    "pipeline1 = AugraphyPipeline(ink_phase=ink_phase, paper_phase=paper_phase_1, post_phase=post_phase_1)\n",
    "pipeline2 = AugraphyPipeline(ink_phase=ink_phase, paper_phase=paper_phase_1, post_phase=post_phase_2)\n",
    "pipeline3 = AugraphyPipeline(ink_phase=ink_phase, paper_phase=paper_phase_1, post_phase=post_phase_3)\n",
    "pipeline4 = AugraphyPipeline(ink_phase=ink_phase, paper_phase=paper_phase_1, post_phase=post_phase_4)\n",
    "pipeline5 = AugraphyPipeline(ink_phase=ink_phase, paper_phase=paper_phase_1, post_phase=post_phase_5)\n",
    "pipeline6 = AugraphyPipeline(ink_phase=ink_phase, paper_phase=paper_phase_2, post_phase=post_phase_1)\n",
    "pipeline7 = AugraphyPipeline(ink_phase=ink_phase, paper_phase=paper_phase_2, post_phase=post_phase_2)\n",
    "pipeline8 = AugraphyPipeline(ink_phase=ink_phase, paper_phase=paper_phase_2, post_phase=post_phase_3)\n",
    "pipeline9 = AugraphyPipeline(ink_phase=ink_phase, paper_phase=paper_phase_2, post_phase=post_phase_4)\n",
    "pipeline10 = AugraphyPipeline(ink_phase=ink_phase, paper_phase=paper_phase_2, post_phase=post_phase_5)\n",
    "\n",
    "pipelines = [pipeline1, pipeline2, pipeline3, pipeline4, pipeline5, pipeline6, pipeline7, pipeline8, pipeline9, pipeline10]"
   ]
  },
  {
   "cell_type": "code",
   "execution_count": 171,
   "metadata": {},
   "outputs": [
    {
     "data": {
      "text/plain": [
       "10"
      ]
     },
     "execution_count": 171,
     "metadata": {},
     "output_type": "execute_result"
    }
   ],
   "source": [
    "len(pipelines)"
   ]
  },
  {
   "cell_type": "code",
   "execution_count": 174,
   "metadata": {},
   "outputs": [
    {
     "name": "stderr",
     "output_type": "stream",
     "text": [
      "Image transforms: 6280it [1:19:42,  1.31it/s]\n"
     ]
    }
   ],
   "source": [
    "au_ids = []\n",
    "au_targets = []\n",
    "data_path = '../data/train/'\n",
    "for index, ID, target in tqdm(df.itertuples(), desc='Image transforms', mininterval=0.1):\n",
    "    image_path = os.path.join(data_path, ID)\n",
    "    image = np.array(Image.open(image_path))\n",
    "\n",
    "    for i, pipeline in enumerate(pipelines):\n",
    "        transformed_image = pipeline(image)\n",
    "        image_ID = f'tf_augraphy_{i}_' + ID \n",
    "        au_ids.append(image_ID)\n",
    "        au_targets.append(target)\n",
    "        Image.fromarray(transformed_image).save(os.path.join(data_path, image_ID))\n",
    "\n",
    "    if target == 13 :\n",
    "        for i, pipeline in enumerate(np.random.choice(pipelines, 3)):\n",
    "            transformed_image = pipeline(image)\n",
    "            image_ID = f'tf_augraphy_{i + 10}_' + ID \n",
    "            au_ids.append(image_ID)\n",
    "            au_targets.append(target)\n",
    "            Image.fromarray(transformed_image).save(os.path.join(data_path, image_ID))\n",
    "    elif target == 14 or target == 1:\n",
    "        for i, pipeline in enumerate(pipelines):\n",
    "            transformed_image = pipeline(image)\n",
    "            image_ID = f'tf_augraphy_{i + 10}_' + ID \n",
    "            au_ids.append(image_ID)\n",
    "            au_targets.append(target)\n",
    "            Image.fromarray(transformed_image).save(os.path.join(data_path, image_ID))\n",
    "\n",
    "aug_data_augraphy = {\n",
    "    'ID' : au_ids,\n",
    "    'target' : au_targets\n",
    "}\n",
    "augraphy_df = pd.DataFrame(aug_data_augraphy)    \n",
    "# df = pd.concat([df, augraphy_df])\n"
   ]
  },
  {
   "cell_type": "code",
   "execution_count": 180,
   "metadata": {},
   "outputs": [],
   "source": [
    "transforms = A.Compose([\n",
    "    A.OneOf([\n",
    "        A.GridDistortion(num_steps=5, distort_limit=0.3, interpolation=1, border_mode=4, value=(255, 255, 255), mask_value=None, always_apply=True, p=1),\n",
    "        A.ElasticTransform(always_apply=True, p=1, alpha=1.0, sigma=50.0, alpha_affine=50.0, interpolation=0, border_mode=1, value=(255, 255, 255), mask_value=None, approximate=False),\n",
    "        A.OpticalDistortion(always_apply=True, p=1, distort_limit=(-0.3, -0.1)),\n",
    "        A.OpticalDistortion(always_apply=True, p=1, distort_limit=(0.1, 0.3)),\n",
    "    ], p=0.5),\n",
    "    A.SomeOf([\n",
    "        A.RandomBrightnessContrast(brightness_limit=(-0.2, 0.2), contrast_limit=(-0.2, 0.2), p=1),\n",
    "        A.HueSaturationValue(hue_shift_limit=15, sat_shift_limit=25, val_shift_limit=20, p=1),\n",
    "        A.MultiplicativeNoise(p=1, multiplier=(1, 1.5), per_channel=False),\n",
    "        A.Equalize(p=1, mode='cv', by_channels=False),\n",
    "    ], n=2, p=0.4),\n",
    "    A.CoarseDropout(p=0.4, max_holes=40, max_height=15, max_width=15, min_holes=8, min_height=8, min_width=8),\n",
    "    A.OneOf([\n",
    "        A.Blur(blur_limit=(3, 4), p=1),\n",
    "        A.MotionBlur(blur_limit=(3, 5), p=1),\n",
    "        A.Downscale(scale_min=0.455, scale_max=0.5, interpolation=2, p=1),\n",
    "    ], p=0.5),\n",
    "    A.GaussNoise(var_limit=(400, 1300), per_channel=False, p=0.5),\n",
    "])"
   ]
  },
  {
   "cell_type": "code",
   "execution_count": 179,
   "metadata": {},
   "outputs": [
    {
     "data": {
      "text/plain": [
       "target\n",
       "16    400\n",
       "10    400\n",
       "0     400\n",
       "3     400\n",
       "12    400\n",
       "8     400\n",
       "2     400\n",
       "11    400\n",
       "7     400\n",
       "9     400\n",
       "15    400\n",
       "5     400\n",
       "4     400\n",
       "6     400\n",
       "13    296\n",
       "14    200\n",
       "1     184\n",
       "Name: count, dtype: int64"
      ]
     },
     "execution_count": 179,
     "metadata": {},
     "output_type": "execute_result"
    }
   ],
   "source": [
    "df.target.value_counts()"
   ]
  },
  {
   "cell_type": "code",
   "execution_count": 181,
   "metadata": {},
   "outputs": [
    {
     "name": "stderr",
     "output_type": "stream",
     "text": [
      "Image augmentation: 6280it [38:13,  2.74it/s]\n"
     ]
    }
   ],
   "source": [
    "ids = []\n",
    "targets = []\n",
    "data_path = '../data/train/'\n",
    "for index, ID, target in tqdm(df.itertuples(), desc='Image augmentation', mininterval=0.1):\n",
    "    image_path = os.path.join(data_path, ID)\n",
    "    image = np.array(Image.open(image_path))\n",
    "    if target == 13:\n",
    "        n = 13\n",
    "    elif target == 14 or target == 1:\n",
    "        n = 20\n",
    "    else:\n",
    "        n = 10\n",
    "    for i in range(n):\n",
    "        transformed_image = transforms(image=image)['image']\n",
    "        image_ID = f'A_tf{i}_' + ID \n",
    "        ids.append(image_ID)\n",
    "        targets.append(target)\n",
    "        Image.fromarray(transformed_image).save(os.path.join(data_path, image_ID))\n",
    "    \n",
    "aug_data = {\n",
    "    'ID' : ids,\n",
    "    'target' : targets\n",
    "}\n",
    "aug_df = pd.DataFrame(aug_data)    \n",
    "# df = pd.concat([df, aug_df])"
   ]
  },
  {
   "cell_type": "code",
   "execution_count": 187,
   "metadata": {},
   "outputs": [
    {
     "data": {
      "text/html": [
       "<div>\n",
       "<style scoped>\n",
       "    .dataframe tbody tr th:only-of-type {\n",
       "        vertical-align: middle;\n",
       "    }\n",
       "\n",
       "    .dataframe tbody tr th {\n",
       "        vertical-align: top;\n",
       "    }\n",
       "\n",
       "    .dataframe thead th {\n",
       "        text-align: right;\n",
       "    }\n",
       "</style>\n",
       "<table border=\"1\" class=\"dataframe\">\n",
       "  <thead>\n",
       "    <tr style=\"text-align: right;\">\n",
       "      <th></th>\n",
       "      <th>ID</th>\n",
       "      <th>target</th>\n",
       "    </tr>\n",
       "  </thead>\n",
       "  <tbody>\n",
       "    <tr>\n",
       "      <th>0</th>\n",
       "      <td>002f99746285dfdd.jpg</td>\n",
       "      <td>16</td>\n",
       "    </tr>\n",
       "    <tr>\n",
       "      <th>1</th>\n",
       "      <td>008ccd231e1fea5d.jpg</td>\n",
       "      <td>10</td>\n",
       "    </tr>\n",
       "    <tr>\n",
       "      <th>2</th>\n",
       "      <td>008f5911bfda7695.jpg</td>\n",
       "      <td>10</td>\n",
       "    </tr>\n",
       "    <tr>\n",
       "      <th>3</th>\n",
       "      <td>009235e4c9c07af5.jpg</td>\n",
       "      <td>4</td>\n",
       "    </tr>\n",
       "    <tr>\n",
       "      <th>4</th>\n",
       "      <td>00b2f44967580c74.jpg</td>\n",
       "      <td>16</td>\n",
       "    </tr>\n",
       "    <tr>\n",
       "      <th>...</th>\n",
       "      <td>...</td>\n",
       "      <td>...</td>\n",
       "    </tr>\n",
       "    <tr>\n",
       "      <th>67523</th>\n",
       "      <td>tf_augraphy_5_HVflip_ffc22136f958deb1.jpg</td>\n",
       "      <td>9</td>\n",
       "    </tr>\n",
       "    <tr>\n",
       "      <th>67524</th>\n",
       "      <td>tf_augraphy_6_HVflip_ffc22136f958deb1.jpg</td>\n",
       "      <td>9</td>\n",
       "    </tr>\n",
       "    <tr>\n",
       "      <th>67525</th>\n",
       "      <td>tf_augraphy_7_HVflip_ffc22136f958deb1.jpg</td>\n",
       "      <td>9</td>\n",
       "    </tr>\n",
       "    <tr>\n",
       "      <th>67526</th>\n",
       "      <td>tf_augraphy_8_HVflip_ffc22136f958deb1.jpg</td>\n",
       "      <td>9</td>\n",
       "    </tr>\n",
       "    <tr>\n",
       "      <th>67527</th>\n",
       "      <td>tf_augraphy_9_HVflip_ffc22136f958deb1.jpg</td>\n",
       "      <td>9</td>\n",
       "    </tr>\n",
       "  </tbody>\n",
       "</table>\n",
       "<p>141336 rows × 2 columns</p>\n",
       "</div>"
      ],
      "text/plain": [
       "                                              ID  target\n",
       "0                           002f99746285dfdd.jpg      16\n",
       "1                           008ccd231e1fea5d.jpg      10\n",
       "2                           008f5911bfda7695.jpg      10\n",
       "3                           009235e4c9c07af5.jpg       4\n",
       "4                           00b2f44967580c74.jpg      16\n",
       "...                                          ...     ...\n",
       "67523  tf_augraphy_5_HVflip_ffc22136f958deb1.jpg       9\n",
       "67524  tf_augraphy_6_HVflip_ffc22136f958deb1.jpg       9\n",
       "67525  tf_augraphy_7_HVflip_ffc22136f958deb1.jpg       9\n",
       "67526  tf_augraphy_8_HVflip_ffc22136f958deb1.jpg       9\n",
       "67527  tf_augraphy_9_HVflip_ffc22136f958deb1.jpg       9\n",
       "\n",
       "[141336 rows x 2 columns]"
      ]
     },
     "execution_count": 187,
     "metadata": {},
     "output_type": "execute_result"
    }
   ],
   "source": [
    "new_df = pd.concat([df, aug_df, augraphy_df])\n",
    "new_df"
   ]
  },
  {
   "cell_type": "code",
   "execution_count": 189,
   "metadata": {},
   "outputs": [],
   "source": [
    "new_df.loc[new_df['ID'].str.contains('45f0d2dfc7e47c03.jpg'), 'target'] = 7\n",
    "new_df.loc[new_df['ID'].str.contains('4620f6e53442f3b6.jpg'), 'target'] = 7\n",
    "new_df.loc[new_df['ID'].str.contains('aec62dced7af97cd.jpg'), 'target'] = 14\n",
    "new_df.loc[new_df['ID'].str.contains('c5182ab809478f12.jpg'), 'target'] = 14\n",
    "new_df.loc[new_df['ID'].str.contains('0583254a73b48ece.jpg'), 'target'] = 10\n",
    "new_df.loc[new_df['ID'].str.contains('38d1796b6ad99ddd.jpg'), 'target'] = 10\n",
    "new_df.loc[new_df['ID'].str.contains('1ec14a14bbe633db.jpg'), 'target'] = 7\n",
    "new_df.loc[new_df['ID'].str.contains('8646f2c3280a4f49.jpg'), 'target'] = 3"
   ]
  },
  {
   "cell_type": "code",
   "execution_count": 191,
   "metadata": {},
   "outputs": [],
   "source": [
    "new_df.to_csv('../data/new_aug_train.csv', index=False)"
   ]
  }
 ],
 "metadata": {
  "kernelspec": {
   "display_name": "base",
   "language": "python",
   "name": "python3"
  },
  "language_info": {
   "codemirror_mode": {
    "name": "ipython",
    "version": 3
   },
   "file_extension": ".py",
   "mimetype": "text/x-python",
   "name": "python",
   "nbconvert_exporter": "python",
   "pygments_lexer": "ipython3",
   "version": "3.10.13"
  }
 },
 "nbformat": 4,
 "nbformat_minor": 2
}
